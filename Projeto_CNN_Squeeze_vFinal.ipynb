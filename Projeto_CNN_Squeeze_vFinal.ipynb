{
  "nbformat": 4,
  "nbformat_minor": 0,
  "metadata": {
    "colab": {
      "name": "Projeto_CNN_Squeeze_vFinal.ipynb",
      "provenance": [],
      "collapsed_sections": [
        "1wzgfClBCqoV",
        "ApFgSRgHDIPU",
        "ruCjC2bMDPr-",
        "1Km_PHpFECl4",
        "XoMX8WVPD-ll",
        "NkL4_aCdD570",
        "l_8aLwEiDtqZ",
        "CxY-SCSQDxOw",
        "GvVQ4eNqDWID",
        "owghqPlyEF9E",
        "FQxas_T8EpAT",
        "HUwsp1iWEbBU"
      ],
      "include_colab_link": true
    },
    "kernelspec": {
      "display_name": "Python 3",
      "name": "python3"
    },
    "language_info": {
      "codemirror_mode": {
        "name": "ipython",
        "version": 3
      },
      "file_extension": ".py",
      "mimetype": "text/x-python",
      "name": "python",
      "nbconvert_exporter": "python",
      "pygments_lexer": "ipython3",
      "version": "3.6.9"
    }
  },
  "cells": [
    {
      "cell_type": "markdown",
      "metadata": {
        "id": "view-in-github",
        "colab_type": "text"
      },
      "source": [
        "<a href=\"https://colab.research.google.com/github/renanalencar/projeto-cnn-squeezenet/blob/main/Projeto_CNN_Squeeze_vFinal.ipynb\" target=\"_parent\"><img src=\"https://colab.research.google.com/assets/colab-badge.svg\" alt=\"Open In Colab\"/></a>"
      ]
    },
    {
      "cell_type": "markdown",
      "metadata": {
        "id": "2TF_Ahcf1Wpk"
      },
      "source": [
        "# Projeto de Redes Neurais "
      ]
    },
    {
      "cell_type": "markdown",
      "metadata": {
        "id": "2OTE95hcbO3U"
      },
      "source": [
        "## Referências: \n",
        "\n",
        "1. [Estudo sobre Câncer de Cólon utilizando a mesma base com modelod e CNN](https://www.kaggle.com/aayushrajput/lung-colon-cancer)\n",
        "2. [Modelo de SqueezeNet para reconhecimento de comida](https://www.kaggle.com/kmader/food-squeezenet) \n",
        "3. [SqueezeNet no Keras](https://codelabs.developers.google.com/codelabs/keras-flowers-squeezenet#6)\n",
        "4. [Entendendo Redes Convolucionais (CNNs) ](https://medium.com/neuronio-br/entendendo-redes-convolucionais-cnns-d10359f21184#:~:text=H%C3%A1%20muitas%20fun%C3%A7%C3%B5es%2C%20como%20sigmoid,quando%20comparada%20a%20outras%20fun%C3%A7%C3%B5es)\n",
        "5. [Uma introdução as redes neurais convolucionais utilizando o Keras](https://medium.com/data-hackers/uma-introdu%C3%A7%C3%A3o-as-redes-neurais-convolucionais-utilizando-o-keras-41ee8dcc033e)\n",
        "6. [Tutorial prático do Keras](https://cv-tricks.com/tensorflow-tutorial/keras/)\n",
        "7. [Métricas de avaliação de modelo](https://gabrielschade.github.io/2019/03/12/ml-classificacao-metricas.html)\n"
      ]
    },
    {
      "cell_type": "markdown",
      "metadata": {
        "id": "qsSxQJGtbqY0"
      },
      "source": [
        "## Erro na biblioteca keras_applications"
      ]
    },
    {
      "cell_type": "code",
      "metadata": {
        "id": "5iGEAqxx2l_z",
        "colab": {
          "base_uri": "https://localhost:8080/"
        },
        "outputId": "7f7fd27e-6564-41cc-d369-3e7bfcde2d52"
      },
      "source": [
        "!pip install keras_applications"
      ],
      "execution_count": null,
      "outputs": [
        {
          "output_type": "stream",
          "text": [
            "Requirement already satisfied: keras_applications in /usr/local/lib/python3.7/dist-packages (1.0.8)\n",
            "Requirement already satisfied: numpy>=1.9.1 in /usr/local/lib/python3.7/dist-packages (from keras_applications) (1.19.5)\n",
            "Requirement already satisfied: h5py in /usr/local/lib/python3.7/dist-packages (from keras_applications) (2.10.0)\n",
            "Requirement already satisfied: six in /usr/local/lib/python3.7/dist-packages (from h5py->keras_applications) (1.15.0)\n"
          ],
          "name": "stdout"
        }
      ]
    },
    {
      "cell_type": "markdown",
      "metadata": {
        "id": "-mNIpyhd1b2b"
      },
      "source": [
        "## Importanto as bibliotecas necessárias"
      ]
    },
    {
      "cell_type": "code",
      "metadata": {
        "execution": {
          "iopub.execute_input": "2021-01-06T02:26:25.508587Z",
          "iopub.status.busy": "2021-01-06T02:26:25.507936Z",
          "iopub.status.idle": "2021-01-06T02:26:32.576008Z",
          "shell.execute_reply": "2021-01-06T02:26:32.576483Z"
        },
        "id": "iAve6DCL4JH4",
        "colab": {
          "base_uri": "https://localhost:8080/"
        },
        "outputId": "1fe0dd9a-53dd-4e17-cd38-6b586324421f"
      },
      "source": [
        "import h5py\n",
        "import numpy as np\n",
        "\n",
        "import tensorflow as tf\n",
        "\n",
        "from tensorflow.keras import datasets, layers, models\n",
        "\n",
        "from keras import backend as K\n",
        "from keras_applications.imagenet_utils import _obtain_input_shape\n",
        "from keras.applications.vgg16 import VGG16\n",
        "from keras.callbacks import EarlyStopping, ModelCheckpoint\n",
        "from keras.engine.topology import get_source_inputs\n",
        "from keras.models import Model, model_from_json\n",
        "from keras.layers import Dense,Flatten\n",
        "from keras.layers import Input, Activation, concatenate\n",
        "from keras.layers import Flatten, Dropout\n",
        "from keras.layers import Dense,Flatten\n",
        "from keras.layers import Convolution2D, MaxPooling2D,Conv2D\n",
        "from keras.layers import AveragePooling2D, BatchNormalization\n",
        "from keras.layers import GlobalAveragePooling2D, GlobalMaxPooling2D\n",
        "from keras.optimizers import SGD\n",
        "from keras.preprocessing.image import ImageDataGenerator\n",
        "from keras.utils import get_file\n",
        "from keras.utils import layer_utils\n",
        "from sklearn.metrics import f1_score,recall_score, precision_score, confusion_matrix\n",
        "import matplotlib.pyplot as plt\n",
        "import warnings\n",
        "warnings.filterwarnings('error')\n",
        "\n",
        "# from visual_callbacks import AccLossPlotter\n",
        "\n",
        "from google.colab import drive\n",
        "drive.mount('/content/drive', force_remount=True)\n",
        "%matplotlib inline"
      ],
      "execution_count": null,
      "outputs": [
        {
          "output_type": "stream",
          "text": [
            "Mounted at /content/drive\n"
          ],
          "name": "stdout"
        }
      ]
    },
    {
      "cell_type": "markdown",
      "metadata": {
        "id": "83elpmo35iWc"
      },
      "source": [
        "## Pré-processamento"
      ]
    },
    {
      "cell_type": "markdown",
      "metadata": {
        "id": "4F3v9sfRFmoc"
      },
      "source": [
        "O conjunto de dados contém 15.000 imagens coloridas em 3 classes, com 5.000 imagens em cada classe. O conjunto de dados é dividido em 12.000 imagens de treinamento e 3.000 imagens de teste (split de 0.2). "
      ]
    },
    {
      "cell_type": "markdown",
      "metadata": {
        "id": "cJnvXAzwCWvu"
      },
      "source": [
        "### Variáveis "
      ]
    },
    {
      "cell_type": "code",
      "metadata": {
        "id": "TCmmex5F3MEb"
      },
      "source": [
        "base_dir = '/content/drive/Shareddrives/REDES_NEURAIS_ENG74317/projeto_cnn_squeezenet'\n",
        "data_dir = base_dir + '/input/lung_image_sets_teste/' # Diretório das imagems \n",
        "width, height, nb_class = 768, 768, 3 # Dimensões da entrada\n",
        "batch_size = 64 # Tamanho do lote para treinamento\n",
        "shuffle = True # Sortear as amostras \n",
        "seed = 42 # Número de sementes \n",
        "nb_epoch = 3 # Número de épocas \n",
        "loss='categorical_crossentropy' # Algoritmo de optmização das Redes Convolucionais\n",
        "optimizer_cnn='adam' # Algoritmo de optmização das Redes Convolucionais\n",
        "optimizer_sn = 'sgd' # Algoritmo de optmização da SqueezeNet\n",
        "metrics='accuracy' # Métrica utilizada \n",
        "target_size = (width, height)\n",
        "input_shape =  (width, height, nb_class)"
      ],
      "execution_count": null,
      "outputs": []
    },
    {
      "cell_type": "markdown",
      "metadata": {
        "id": "CybAIz5xCh3p"
      },
      "source": [
        "### Pré-processamento das imagens "
      ]
    },
    {
      "cell_type": "code",
      "metadata": {
        "id": "fbb2Fq_K09zX"
      },
      "source": [
        "def PreProcess(data_dir,target_size,batch_size,shuffle,seed):\n",
        "    \n",
        "    datagen_cnn = tf.keras.preprocessing.image.ImageDataGenerator(rescale=1. /255, validation_split = 0.2)\n",
        "\n",
        "    train_cnn = datagen_cnn.flow_from_directory(\n",
        "                                          data_dir,                                 \n",
        "                                          class_mode = \"categorical\",\n",
        "                                          target_size = target_size,\n",
        "                                          color_mode=\"rgb\",\n",
        "                                          batch_size = batch_size, \n",
        "                                          shuffle = shuffle,\n",
        "                                          subset='training',\n",
        "                                          seed = seed)\n",
        "\n",
        "    validation_cnn = datagen_cnn.flow_from_directory(\n",
        "                                          data_dir,\n",
        "                                          class_mode = \"categorical\",\n",
        "                                          target_size = target_size,\n",
        "                                          color_mode=\"rgb\",\n",
        "                                          batch_size = batch_size, \n",
        "                                          shuffle = shuffle,\n",
        "                                          subset='validation',\n",
        "                                          seed = seed)\n",
        "\n",
        "    return train_cnn, validation_cnn "
      ],
      "execution_count": null,
      "outputs": []
    },
    {
      "cell_type": "markdown",
      "metadata": {
        "id": "fSxtv_xt0kpB"
      },
      "source": [
        "## CNN"
      ]
    },
    {
      "cell_type": "markdown",
      "metadata": {
        "id": "GUACoLEQF3rz"
      },
      "source": [
        "A saída de cada camada Conv2D e MaxPooling2D é um tensor 3D de forma (altura, largura, canais). As dimensões de altura e largura tendem a diminuir à medida que você se aprofunda na rede. O número de canais de saída para cada camada Conv2D é controlado pelo primeiro argumento (por exemplo, 32 ou 64). Normalmente, à medida que a largura e a altura diminuem, você pode (computacionalmente) adicionar mais canais de saída em cada camada Conv2D."
      ]
    },
    {
      "cell_type": "markdown",
      "metadata": {
        "id": "1wzgfClBCqoV"
      },
      "source": [
        "### Modelo de CNN "
      ]
    },
    {
      "cell_type": "markdown",
      "metadata": {
        "id": "85ruv4xxGP6L"
      },
      "source": [
        "As linhas de código abaixo definir a base convolucional utilizando um padrão comum: uma pilha de Conv2D e MaxPooling2D camadas.\n",
        "\n",
        "Como entrada, um CNN assume tensores de forma (image_height, image_width, color_channels), ignorando o tamanho do lote. O color_channels se refere a (R, G, B). A CNN foi configuradapara processar entradas de forma (768, 768, 3), que é o formato de imagens lung_image_sets. "
      ]
    },
    {
      "cell_type": "code",
      "metadata": {
        "id": "7Owmt1_ci-m0"
      },
      "source": [
        "def Model_CNN():\n",
        "  model = models.Sequential()\n",
        "\n",
        "  # BatchNormalization()(inp) testar o BatchNormalization\n",
        "  # Block 1\n",
        "  model.add(layers.BatchNormalization(input_shape=(768, 768, 3)))\n",
        "  # model.add(layers.Conv2D(32, (3, 3), activation='relu', padding='same', name='block1_conv1', input_shape=(768, 768, 3))) # Original\n",
        "  model.add(layers.Conv2D(32, (3, 3), activation='relu', padding='same', name='block1_conv1'))\n",
        "  model.add(layers.Conv2D(32, (1, 1), activation='relu',name='block1_conv2'))\n",
        "  model.add(layers.MaxPooling2D((2, 2),strides=(2, 2), name='block1_pool'))\n",
        "\n",
        "  # Block 2\n",
        "  model.add(layers.Conv2D(64, (3, 3), activation='relu', name='block2_conv1'))\n",
        "  model.add(layers.Conv2D(64, (1, 1), activation='relu',name='block2_conv2'))\n",
        "  model.add(layers.MaxPooling2D((2, 2),strides=(2, 2), name='block2_pool'))\n",
        "\n",
        "  # Block 3\n",
        "  model.add(layers.Conv2D(128, (3, 3), activation='relu',name='block3_conv1'))\n",
        "  model.add(layers.Conv2D(128, (1, 1), activation='relu',name='block3_conv2'))\n",
        "  model.add(layers.MaxPooling2D((2, 2),strides=(2, 2), name='block3_pool'))\n",
        "\n",
        "  # Block 4\n",
        "  model.add(layers.Conv2D(256, (3, 3), activation='relu',name='block4_conv1'))\n",
        "  model.add(layers.Conv2D(256, (1, 1), activation='relu',name='block4_conv2'))\n",
        "  model.add(layers.MaxPooling2D((2, 2),strides=(2, 2), name='block4_pool'))\n",
        "\n",
        "  # Block 5\n",
        "  model.add(layers.Conv2D(512, (3, 3), activation='relu',name='block5_conv1'))\n",
        "  model.add(layers.Conv2D(512, (1, 1), activation='relu',name='block5_conv2'))\n",
        "  model.add(layers.MaxPooling2D((2, 2),strides=(2, 2), name='block5_pool'))\n",
        "\n",
        "  # Flatten\n",
        "  model.add(layers.Flatten())\n",
        "  model.add(layers.Dense(512, activation='relu'))\n",
        "  model.add(layers.Dense(256, activation='relu'))\n",
        "  model.add(layers.Dense(128, activation='relu'))\n",
        "  model.add(layers.Dense(3, activation='softmax'))\n",
        "  \n",
        "  return model"
      ],
      "execution_count": null,
      "outputs": []
    },
    {
      "cell_type": "markdown",
      "metadata": {
        "id": "0quSU-YgGhgn"
      },
      "source": [
        "As (768, 768, 64) saídas serão achatadas em vetores de forma (387) antes de passar por duas camadas densas.\n",
        "\n",
        "Para completar o modelo, o último tensor de saída da base convolucional (de formato (4, 4, 64)) em uma ou mais camadas Densas para realizar a classificação. Camadas densas recebem vetores como entrada (que são 1D), enquanto a saída atual é um tensor 3D. Primeiro, você nivelará (ou desenrolará) a saída 3D em 1D e, em seguida, adicionará uma ou mais camadas Densas na parte superior. O conjunto tem 3 classes de saída, então você usa uma camada Densa final com 3 saídas."
      ]
    },
    {
      "cell_type": "markdown",
      "metadata": {
        "id": "fZKGXxHhCv0s"
      },
      "source": [
        "### Função para compilar o modelo da CNN"
      ]
    },
    {
      "cell_type": "code",
      "metadata": {
        "id": "pulpavwaDk0m"
      },
      "source": [
        "def Compile_Model_CNN(loss, optimizer_cnn, metrics):\n",
        "  model_cnn = Model_CNN()\n",
        "  model_cnn.compile(loss=loss, optimizer=optimizer_cnn, metrics=[metrics])\n",
        "  model_cnn.summary()\n",
        "  return model_cnn"
      ],
      "execution_count": null,
      "outputs": []
    },
    {
      "cell_type": "markdown",
      "metadata": {
        "id": "lr7E0_4DC20D"
      },
      "source": [
        "### Função de treinamento da CNN"
      ]
    },
    {
      "cell_type": "code",
      "metadata": {
        "id": "PAJ7-eRj2bHg"
      },
      "source": [
        "def Train_Model_CNN(model_cnn, train_cnn, nb_epoch, validation_cnn):\n",
        "    history_cnn = model_cnn.fit(train_cnn, epochs = nb_epoch,  validation_data=validation_cnn)\n",
        "\n",
        "    # salvar modelo para posterior avaliação      \n",
        "    model_json = model_cnn.to_json()\n",
        "    model_name = \"Modelo_CNN\"\n",
        "    with open(base_dir + '/models/'+ model_name +\".json\", \"w\") as json_file:\n",
        "        json_file.write(model_json)\n",
        "    model_cnn.save_weights(base_dir + '/weights/'+ model_name +'.h5')\n",
        "    \n",
        "    return history_cnn"
      ],
      "execution_count": null,
      "outputs": []
    },
    {
      "cell_type": "markdown",
      "metadata": {
        "id": "gj0ighk2C-D9"
      },
      "source": [
        "### Função para execução da CNN"
      ]
    },
    {
      "cell_type": "code",
      "metadata": {
        "id": "N5x3cr4BY7oW"
      },
      "source": [
        "def Execute_Model_CNN():\n",
        "    train_cnn, validation_cnn = PreProcess(data_dir,target_size,batch_size,shuffle,seed)\n",
        "    model_cnn = Compile_Model_CNN(loss, optimizer_cnn, metrics)\n",
        "    \n",
        "    history_cnn = Train_Model_CNN(model_cnn, train_cnn, nb_epoch, validation_cnn)\n",
        "    \n",
        "    # Plotar a curva de aprendizagem\n",
        "    history_dict = history_cnn.history\n",
        "    loss_values = history_dict['loss']\n",
        "    val_loss_values = history_dict['val_loss']\n",
        "    accuracy = history_dict['accuracy']\n",
        "    val_accuracy = history_dict['val_accuracy']\n",
        "    \n",
        "    epochs = range(1, len(loss_values) + 1)\n",
        "    fig, ax = plt.subplots(1, 1, figsize=(10, 6))\n",
        "\n",
        "    # Plotar a Perdas vs Épocas\n",
        "    ax.plot(epochs, loss_values, 'bo', label='Perda de treinamento')\n",
        "    ax.plot(epochs, val_loss_values, 'b', label='Perda de validação')\n",
        "    ax.set_title('Perdas de Treinamento & Validação', fontsize=16)\n",
        "    ax.set_xlabel('Épocas', fontsize=16)\n",
        "    ax.set_ylabel('Perdas', fontsize=16)\n",
        "    ax.legend()\n",
        "\n",
        "    ax.figure.savefig(base_dir + '/graphs/' + 'Curva_de_aprendizagem_CNN.png')\n",
        "  "
      ],
      "execution_count": null,
      "outputs": []
    },
    {
      "cell_type": "markdown",
      "metadata": {
        "id": "ApFgSRgHDIPU"
      },
      "source": [
        "### Função para avaliação  da CNN"
      ]
    },
    {
      "cell_type": "code",
      "metadata": {
        "id": "WTtM4Q_J3F4C"
      },
      "source": [
        "def Evaluate_Model_CNN():\n",
        "\n",
        "    train_cnn, validation_cnn = PreProcess(data_dir,target_size,batch_size,shuffle,seed)\n",
        "\n",
        "    # Recuperando o modelo Treinado da CNN\n",
        "    with open(base_dir + '/models/' + 'Modelo_CNN.json','r') as modelo:\n",
        "      json = modelo.read()\n",
        "    model_cnn = model_from_json(json)\n",
        "\n",
        "    # Recuperando os pesos do treinamento da CNN\n",
        "    model_cnn.load_weights(base_dir + '/weights/' + 'Modelo_CNN.h5') \n",
        "\n",
        "    # predicted_cnn = model_cnn.predict(validation_cnn)\n",
        "\n",
        "    # Y_pred = model_cnn.predict_generator(validation_cnn, steps=4500 // batchsize+1)\n",
        "    Y_pred = model_cnn.predict(validation_cnn)\n",
        "    y_pred = np.argmax(Y_pred, axis=1)\n",
        "    \n",
        "    print('\\nMatriz de Confusão')\n",
        "    print(confusion_matrix(validation_cnn.classes, y_pred),'\\n')\n",
        "\n",
        "    print(\" ---- F1 Score ----\")\n",
        "    print(f1_score(validation_cnn.classes, y_pred, average = 'micro'))\n",
        "    print(f1_score(validation_cnn.classes, y_pred, average = 'macro'))\n",
        "    print(f1_score(validation_cnn.classes, y_pred, average = 'weighted'),'\\n')\n",
        "\n",
        "    print(\" ---- Recall ----\")\n",
        "    print(recall_score(validation_cnn.classes, y_pred, average = 'micro'))\n",
        "    print(recall_score(validation_cnn.classes, y_pred, average = 'macro'))\n",
        "    print(recall_score(validation_cnn.classes, y_pred, average = 'weighted'),'\\n')\n",
        "    \n",
        "    print(\" ---- Precision ----\")\n",
        "    print(precision_score(validation_cnn.classes, y_pred, average = 'micro', zero_division=1))\n",
        "    print(precision_score(validation_cnn.classes, y_pred, average = 'macro', zero_division=1))\n",
        "    print(precision_score(validation_cnn.classes, y_pred, average = 'weighted', zero_division=1),'\\n')"
      ],
      "execution_count": null,
      "outputs": []
    },
    {
      "cell_type": "markdown",
      "metadata": {
        "id": "6BuGcrBcDLz7"
      },
      "source": [
        "### Chamada para execução da CNN"
      ]
    },
    {
      "cell_type": "code",
      "metadata": {
        "colab": {
          "base_uri": "https://localhost:8080/",
          "height": 323
        },
        "id": "pbF9sxmW3nIN",
        "outputId": "fc506daf-e614-4ba0-dce7-dd21377d3c06"
      },
      "source": [
        "Execute_Model_CNN()"
      ],
      "execution_count": null,
      "outputs": [
        {
          "output_type": "error",
          "ename": "FileNotFoundError",
          "evalue": "ignored",
          "traceback": [
            "\u001b[0;31m---------------------------------------------------------------------------\u001b[0m",
            "\u001b[0;31mFileNotFoundError\u001b[0m                         Traceback (most recent call last)",
            "\u001b[0;32m<ipython-input-14-ede9ae5726ec>\u001b[0m in \u001b[0;36m<module>\u001b[0;34m()\u001b[0m\n\u001b[0;32m----> 1\u001b[0;31m \u001b[0mExecute_Model_CNN\u001b[0m\u001b[0;34m(\u001b[0m\u001b[0;34m)\u001b[0m\u001b[0;34m\u001b[0m\u001b[0;34m\u001b[0m\u001b[0m\n\u001b[0m",
            "\u001b[0;32m<ipython-input-12-625c6a8b80be>\u001b[0m in \u001b[0;36mExecute_Model_CNN\u001b[0;34m()\u001b[0m\n\u001b[1;32m      1\u001b[0m \u001b[0;32mdef\u001b[0m \u001b[0mExecute_Model_CNN\u001b[0m\u001b[0;34m(\u001b[0m\u001b[0;34m)\u001b[0m\u001b[0;34m:\u001b[0m\u001b[0;34m\u001b[0m\u001b[0;34m\u001b[0m\u001b[0m\n\u001b[0;32m----> 2\u001b[0;31m     \u001b[0mtrain_cnn\u001b[0m\u001b[0;34m,\u001b[0m \u001b[0mvalidation_cnn\u001b[0m \u001b[0;34m=\u001b[0m \u001b[0mPreProcess\u001b[0m\u001b[0;34m(\u001b[0m\u001b[0mdata_dir\u001b[0m\u001b[0;34m,\u001b[0m\u001b[0mtarget_size\u001b[0m\u001b[0;34m,\u001b[0m\u001b[0mbatch_size\u001b[0m\u001b[0;34m,\u001b[0m\u001b[0mshuffle\u001b[0m\u001b[0;34m,\u001b[0m\u001b[0mseed\u001b[0m\u001b[0;34m)\u001b[0m\u001b[0;34m\u001b[0m\u001b[0;34m\u001b[0m\u001b[0m\n\u001b[0m\u001b[1;32m      3\u001b[0m     \u001b[0mmodel_cnn\u001b[0m \u001b[0;34m=\u001b[0m \u001b[0mCompile_Model_CNN\u001b[0m\u001b[0;34m(\u001b[0m\u001b[0mloss\u001b[0m\u001b[0;34m,\u001b[0m \u001b[0moptimizer_cnn\u001b[0m\u001b[0;34m,\u001b[0m \u001b[0mmetrics\u001b[0m\u001b[0;34m)\u001b[0m\u001b[0;34m\u001b[0m\u001b[0;34m\u001b[0m\u001b[0m\n\u001b[1;32m      4\u001b[0m \u001b[0;34m\u001b[0m\u001b[0m\n\u001b[1;32m      5\u001b[0m     \u001b[0mhistory_cnn\u001b[0m \u001b[0;34m=\u001b[0m \u001b[0mTrain_Model_CNN\u001b[0m\u001b[0;34m(\u001b[0m\u001b[0mmodel_cnn\u001b[0m\u001b[0;34m,\u001b[0m \u001b[0mtrain_cnn\u001b[0m\u001b[0;34m,\u001b[0m \u001b[0mnb_epoch\u001b[0m\u001b[0;34m,\u001b[0m \u001b[0mvalidation_cnn\u001b[0m\u001b[0;34m)\u001b[0m\u001b[0;34m\u001b[0m\u001b[0;34m\u001b[0m\u001b[0m\n",
            "\u001b[0;32m<ipython-input-8-e205a5360daa>\u001b[0m in \u001b[0;36mPreProcess\u001b[0;34m(data_dir, target_size, batch_size, shuffle, seed)\u001b[0m\n\u001b[1;32m     11\u001b[0m                                           \u001b[0mshuffle\u001b[0m \u001b[0;34m=\u001b[0m \u001b[0mshuffle\u001b[0m\u001b[0;34m,\u001b[0m\u001b[0;34m\u001b[0m\u001b[0;34m\u001b[0m\u001b[0m\n\u001b[1;32m     12\u001b[0m                                           \u001b[0msubset\u001b[0m\u001b[0;34m=\u001b[0m\u001b[0;34m'training'\u001b[0m\u001b[0;34m,\u001b[0m\u001b[0;34m\u001b[0m\u001b[0;34m\u001b[0m\u001b[0m\n\u001b[0;32m---> 13\u001b[0;31m                                           seed = seed)\n\u001b[0m\u001b[1;32m     14\u001b[0m \u001b[0;34m\u001b[0m\u001b[0m\n\u001b[1;32m     15\u001b[0m     validation_cnn = datagen_cnn.flow_from_directory(\n",
            "\u001b[0;32m/usr/local/lib/python3.7/dist-packages/tensorflow/python/keras/preprocessing/image.py\u001b[0m in \u001b[0;36mflow_from_directory\u001b[0;34m(self, directory, target_size, color_mode, classes, class_mode, batch_size, shuffle, seed, save_to_dir, save_prefix, save_format, follow_links, subset, interpolation)\u001b[0m\n\u001b[1;32m    956\u001b[0m         \u001b[0mfollow_links\u001b[0m\u001b[0;34m=\u001b[0m\u001b[0mfollow_links\u001b[0m\u001b[0;34m,\u001b[0m\u001b[0;34m\u001b[0m\u001b[0;34m\u001b[0m\u001b[0m\n\u001b[1;32m    957\u001b[0m         \u001b[0msubset\u001b[0m\u001b[0;34m=\u001b[0m\u001b[0msubset\u001b[0m\u001b[0;34m,\u001b[0m\u001b[0;34m\u001b[0m\u001b[0;34m\u001b[0m\u001b[0m\n\u001b[0;32m--> 958\u001b[0;31m         interpolation=interpolation)\n\u001b[0m\u001b[1;32m    959\u001b[0m \u001b[0;34m\u001b[0m\u001b[0m\n\u001b[1;32m    960\u001b[0m   def flow_from_dataframe(self,\n",
            "\u001b[0;32m/usr/local/lib/python3.7/dist-packages/tensorflow/python/keras/preprocessing/image.py\u001b[0m in \u001b[0;36m__init__\u001b[0;34m(self, directory, image_data_generator, target_size, color_mode, classes, class_mode, batch_size, shuffle, seed, data_format, save_to_dir, save_prefix, save_format, follow_links, subset, interpolation, dtype)\u001b[0m\n\u001b[1;32m    394\u001b[0m         \u001b[0msubset\u001b[0m\u001b[0;34m=\u001b[0m\u001b[0msubset\u001b[0m\u001b[0;34m,\u001b[0m\u001b[0;34m\u001b[0m\u001b[0;34m\u001b[0m\u001b[0m\n\u001b[1;32m    395\u001b[0m         \u001b[0minterpolation\u001b[0m\u001b[0;34m=\u001b[0m\u001b[0minterpolation\u001b[0m\u001b[0;34m,\u001b[0m\u001b[0;34m\u001b[0m\u001b[0;34m\u001b[0m\u001b[0m\n\u001b[0;32m--> 396\u001b[0;31m         **kwargs)\n\u001b[0m\u001b[1;32m    397\u001b[0m \u001b[0;34m\u001b[0m\u001b[0m\n\u001b[1;32m    398\u001b[0m \u001b[0;34m\u001b[0m\u001b[0m\n",
            "\u001b[0;32m/usr/local/lib/python3.7/dist-packages/keras_preprocessing/image/directory_iterator.py\u001b[0m in \u001b[0;36m__init__\u001b[0;34m(self, directory, image_data_generator, target_size, color_mode, classes, class_mode, batch_size, shuffle, seed, data_format, save_to_dir, save_prefix, save_format, follow_links, subset, interpolation, dtype)\u001b[0m\n\u001b[1;32m    113\u001b[0m         \u001b[0;32mif\u001b[0m \u001b[0;32mnot\u001b[0m \u001b[0mclasses\u001b[0m\u001b[0;34m:\u001b[0m\u001b[0;34m\u001b[0m\u001b[0;34m\u001b[0m\u001b[0m\n\u001b[1;32m    114\u001b[0m             \u001b[0mclasses\u001b[0m \u001b[0;34m=\u001b[0m \u001b[0;34m[\u001b[0m\u001b[0;34m]\u001b[0m\u001b[0;34m\u001b[0m\u001b[0;34m\u001b[0m\u001b[0m\n\u001b[0;32m--> 115\u001b[0;31m             \u001b[0;32mfor\u001b[0m \u001b[0msubdir\u001b[0m \u001b[0;32min\u001b[0m \u001b[0msorted\u001b[0m\u001b[0;34m(\u001b[0m\u001b[0mos\u001b[0m\u001b[0;34m.\u001b[0m\u001b[0mlistdir\u001b[0m\u001b[0;34m(\u001b[0m\u001b[0mdirectory\u001b[0m\u001b[0;34m)\u001b[0m\u001b[0;34m)\u001b[0m\u001b[0;34m:\u001b[0m\u001b[0;34m\u001b[0m\u001b[0;34m\u001b[0m\u001b[0m\n\u001b[0m\u001b[1;32m    116\u001b[0m                 \u001b[0;32mif\u001b[0m \u001b[0mos\u001b[0m\u001b[0;34m.\u001b[0m\u001b[0mpath\u001b[0m\u001b[0;34m.\u001b[0m\u001b[0misdir\u001b[0m\u001b[0;34m(\u001b[0m\u001b[0mos\u001b[0m\u001b[0;34m.\u001b[0m\u001b[0mpath\u001b[0m\u001b[0;34m.\u001b[0m\u001b[0mjoin\u001b[0m\u001b[0;34m(\u001b[0m\u001b[0mdirectory\u001b[0m\u001b[0;34m,\u001b[0m \u001b[0msubdir\u001b[0m\u001b[0;34m)\u001b[0m\u001b[0;34m)\u001b[0m\u001b[0;34m:\u001b[0m\u001b[0;34m\u001b[0m\u001b[0;34m\u001b[0m\u001b[0m\n\u001b[1;32m    117\u001b[0m                     \u001b[0mclasses\u001b[0m\u001b[0;34m.\u001b[0m\u001b[0mappend\u001b[0m\u001b[0;34m(\u001b[0m\u001b[0msubdir\u001b[0m\u001b[0;34m)\u001b[0m\u001b[0;34m\u001b[0m\u001b[0;34m\u001b[0m\u001b[0m\n",
            "\u001b[0;31mFileNotFoundError\u001b[0m: [Errno 2] No such file or directory: '/content/drive/Shareddrives/REDES_NEURAIS_ENG74317/projeto_cnn_squeezenet/input/lung_image_sets_teste/'"
          ]
        }
      ]
    },
    {
      "cell_type": "markdown",
      "metadata": {
        "id": "ruCjC2bMDPr-"
      },
      "source": [
        "### Chamada para avaliação da CNN\n",
        "\n",
        "\n"
      ]
    },
    {
      "cell_type": "code",
      "metadata": {
        "colab": {
          "base_uri": "https://localhost:8080/"
        },
        "id": "3zYrxTys3pPe",
        "outputId": "b158ce68-1c53-484f-e733-2060d2dda73f"
      },
      "source": [
        "Evaluate_Model_CNN()"
      ],
      "execution_count": null,
      "outputs": [
        {
          "output_type": "stream",
          "text": [
            "Found 12000 images belonging to 3 classes.\n",
            "Found 3000 images belonging to 3 classes.\n",
            "\n",
            "Matriz de Confusão\n",
            "[[   0    0 1000]\n",
            " [   0    0 1000]\n",
            " [   0    0 1000]] \n",
            "\n",
            " ---- F1 Score ----\n",
            "0.3333333333333333\n",
            "0.16666666666666666\n",
            "0.16666666666666666 \n",
            "\n",
            " ---- Recall ----\n",
            "0.3333333333333333\n",
            "0.3333333333333333\n",
            "0.3333333333333333 \n",
            "\n",
            " ---- Precision ----\n",
            "0.3333333333333333\n",
            "0.7777777777777778\n",
            "0.7777777777777778 \n",
            "\n"
          ],
          "name": "stdout"
        }
      ]
    },
    {
      "cell_type": "markdown",
      "metadata": {
        "id": "iR-_ob8w0szO"
      },
      "source": [
        "# VGG"
      ]
    },
    {
      "cell_type": "markdown",
      "metadata": {
        "id": "1Km_PHpFECl4"
      },
      "source": [
        "### Modelo VGG"
      ]
    },
    {
      "cell_type": "code",
      "metadata": {
        "id": "pBVnHogyt6y9"
      },
      "source": [
        "def Model_VGG():\n",
        "  model = VGG16(include_top=False, input_shape=(768, 768, 3))\n",
        "\n",
        "  for layer in model.layers:\n",
        "   layer.trainable = False\n",
        "  \n",
        "  flat1 = Flatten()(model.layers[-1].output)\n",
        "  class1 = Dense(1024, activation='relu')(flat1)\n",
        "  class2 = Dense(512, activation='relu')(class1)\n",
        "  class3 = Dense(256, activation='relu')(class2)\n",
        "  class4 = Dense(128, activation='relu')(class3)\n",
        "  output = Dense(3, activation='softmax')(class4)\n",
        "\n",
        "  model = Model(inputs=model.inputs, outputs=output)\n",
        "\n",
        "  return model"
      ],
      "execution_count": null,
      "outputs": []
    },
    {
      "cell_type": "markdown",
      "metadata": {
        "id": "XoMX8WVPD-ll"
      },
      "source": [
        "### Função para compilar o modelo da VGG"
      ]
    },
    {
      "cell_type": "code",
      "metadata": {
        "id": "1KdWBQjDlur9"
      },
      "source": [
        "def Compile_Model_VGG(loss, optimizer_cnn, metrics):\n",
        "  \n",
        "  model_vgg = Model_VGG()\n",
        "  model_vgg.compile(loss=loss, optimizer=optimizer_cnn, metrics=[metrics])\n",
        "  model_vgg.summary()\n",
        "\n",
        "  return model_vgg"
      ],
      "execution_count": null,
      "outputs": []
    },
    {
      "cell_type": "markdown",
      "metadata": {
        "id": "NkL4_aCdD570"
      },
      "source": [
        "### Função de treinamento da VGG"
      ]
    },
    {
      "cell_type": "code",
      "metadata": {
        "id": "I67NDqig2fYw"
      },
      "source": [
        "def Train_Model_VGG(model_vgg, train_cnn, nb_epoch, validation_cnn):\n",
        "     \n",
        "     history_vgg = model_vgg.fit(train_cnn, epochs = nb_epoch,  validation_data=validation_cnn)\n",
        "\n",
        "     # salvar modelo para posterior avaliação      \n",
        "     model_json = model_vgg.to_json()\n",
        "     model_name = \"Modelo_VGG\"\n",
        "     with open(base_dir + '/models/'+model_name+\".json\", \"w\") as json_file:\n",
        "      json_file.write(model_json)\n",
        "     model_vgg.save_weights(base_dir + '/weights/'+model_name+'.h5')\n",
        "\n",
        "     return history_vgg"
      ],
      "execution_count": null,
      "outputs": []
    },
    {
      "cell_type": "markdown",
      "metadata": {
        "id": "l_8aLwEiDtqZ"
      },
      "source": [
        "### Função para execução da VGG"
      ]
    },
    {
      "cell_type": "code",
      "metadata": {
        "id": "BAp8s5ZQ2yQB"
      },
      "source": [
        "def Execute_Model_VGG():\n",
        "  \n",
        "    train_cnn, validation_cnn = PreProcess(data_dir,target_size,batch_size,shuffle,seed)\n",
        "    model_vgg = Compile_Model_VGG(loss, optimizer_cnn, metrics)\n",
        "    history_vgg = Train_Model_VGG(model_vgg, train_cnn, nb_epoch, validation_cnn)\n",
        "\n",
        "    # Plotar a curva de aprendizagem\n",
        "    history_dict = history_vgg.history\n",
        "    loss_values = history_dict['loss']\n",
        "    val_loss_values = history_dict['val_loss']\n",
        "    accuracy = history_dict['accuracy']\n",
        "    val_accuracy = history_dict['val_accuracy']\n",
        "    \n",
        "    epochs = range(1, len(loss_values) + 1)\n",
        "    fig, ax = plt.subplots(1, 1, figsize=(10, 6))\n",
        "\n",
        "    # Plotar a Perdas vs Épocas\n",
        "    ax.plot(epochs, loss_values, 'bo', label='Perda de treinamento')\n",
        "    ax.plot(epochs, val_loss_values, 'b', label='Perda de validação')\n",
        "    ax.set_title('Perdas de Treinamento & Validação', fontsize=16)\n",
        "    ax.set_xlabel('Épocas', fontsize=16)\n",
        "    ax.set_ylabel('Perdas', fontsize=16)\n",
        "    ax.legend()\n",
        "\n",
        "    ax.figure.savefig(base_dir + '/graphs/' + 'Curva_de_aprendizagem_VGG.png')\n",
        "  "
      ],
      "execution_count": null,
      "outputs": []
    },
    {
      "cell_type": "markdown",
      "metadata": {
        "id": "CxY-SCSQDxOw"
      },
      "source": [
        "### Função para avaliação  da VGG"
      ]
    },
    {
      "cell_type": "code",
      "metadata": {
        "id": "G3Md9FUi21t0"
      },
      "source": [
        "def Evaluate_Model_VGG():\n",
        "\n",
        "    train_cnn, validation_cnn = PreProcess(data_dir,target_size,batch_size,shuffle,seed)\n",
        "\n",
        "    # Recuperando o modelo Treinado da CNN\n",
        "    with open(base_dir + '/models/' + 'Modelo_VGG.json','r') as modelo:\n",
        "      json = modelo.read()\n",
        "    model_vgg = model_from_json(json)\n",
        "\n",
        "    # Recuperando os pesos do treinamento da CNN\n",
        "    model_vgg.load_weights(base_dir + '/weights/' + 'Modelo_VGG.h5') \n",
        "\n",
        "    Y_pred = model_vgg.predict(validation_cnn)\n",
        "    y_pred = np.argmax(Y_pred, axis=1)\n",
        "    \n",
        "    print('\\nMatriz de Confusão')\n",
        "    print(confusion_matrix(validation_cnn.classes, y_pred),'\\n')\n",
        "\n",
        "    print(\" ---- F1 Score ----\")\n",
        "    print(f1_score(validation_cnn.classes, y_pred, average = 'micro'))\n",
        "    print(f1_score(validation_cnn.classes, y_pred, average = 'macro'))\n",
        "    print(f1_score(validation_cnn.classes, y_pred, average = 'weighted'),'\\n')\n",
        "\n",
        "    print(\" ---- Recall ----\")\n",
        "    print(recall_score(validation_cnn.classes, y_pred, average = 'micro'))\n",
        "    print(recall_score(validation_cnn.classes, y_pred, average = 'macro'))\n",
        "    print(recall_score(validation_cnn.classes, y_pred, average = 'weighted'),'\\n')\n",
        "    \n",
        "    print(\" ---- Precision ----\")\n",
        "    print(precision_score(validation_cnn.classes, y_pred, average = 'micro'))\n",
        "    print(precision_score(validation_cnn.classes, y_pred, average = 'macro'))\n",
        "    print(precision_score(validation_cnn.classes, y_pred, average = 'weighted', zero_division=1),'\\n')"
      ],
      "execution_count": null,
      "outputs": []
    },
    {
      "cell_type": "markdown",
      "metadata": {
        "id": "j-AlwkIODgbb"
      },
      "source": [
        "### Chamada para execução da VGG"
      ]
    },
    {
      "cell_type": "code",
      "metadata": {
        "id": "hpfw8xnX3h3x",
        "colab": {
          "base_uri": "https://localhost:8080/",
          "height": 1000
        },
        "outputId": "694301f8-1f31-410c-f68a-03630e7bc59a"
      },
      "source": [
        "Execute_Model_VGG()"
      ],
      "execution_count": null,
      "outputs": [
        {
          "output_type": "stream",
          "text": [
            "Found 12000 images belonging to 3 classes.\n",
            "Found 3000 images belonging to 3 classes.\n",
            "Model: \"model_1\"\n",
            "_________________________________________________________________\n",
            "Layer (type)                 Output Shape              Param #   \n",
            "=================================================================\n",
            "input_2 (InputLayer)         [(None, 768, 768, 3)]     0         \n",
            "_________________________________________________________________\n",
            "block1_conv1 (Conv2D)        (None, 768, 768, 64)      1792      \n",
            "_________________________________________________________________\n",
            "block1_conv2 (Conv2D)        (None, 768, 768, 64)      36928     \n",
            "_________________________________________________________________\n",
            "block1_pool (MaxPooling2D)   (None, 384, 384, 64)      0         \n",
            "_________________________________________________________________\n",
            "block2_conv1 (Conv2D)        (None, 384, 384, 128)     73856     \n",
            "_________________________________________________________________\n",
            "block2_conv2 (Conv2D)        (None, 384, 384, 128)     147584    \n",
            "_________________________________________________________________\n",
            "block2_pool (MaxPooling2D)   (None, 192, 192, 128)     0         \n",
            "_________________________________________________________________\n",
            "block3_conv1 (Conv2D)        (None, 192, 192, 256)     295168    \n",
            "_________________________________________________________________\n",
            "block3_conv2 (Conv2D)        (None, 192, 192, 256)     590080    \n",
            "_________________________________________________________________\n",
            "block3_conv3 (Conv2D)        (None, 192, 192, 256)     590080    \n",
            "_________________________________________________________________\n",
            "block3_pool (MaxPooling2D)   (None, 96, 96, 256)       0         \n",
            "_________________________________________________________________\n",
            "block4_conv1 (Conv2D)        (None, 96, 96, 512)       1180160   \n",
            "_________________________________________________________________\n",
            "block4_conv2 (Conv2D)        (None, 96, 96, 512)       2359808   \n",
            "_________________________________________________________________\n",
            "block4_conv3 (Conv2D)        (None, 96, 96, 512)       2359808   \n",
            "_________________________________________________________________\n",
            "block4_pool (MaxPooling2D)   (None, 48, 48, 512)       0         \n",
            "_________________________________________________________________\n",
            "block5_conv1 (Conv2D)        (None, 48, 48, 512)       2359808   \n",
            "_________________________________________________________________\n",
            "block5_conv2 (Conv2D)        (None, 48, 48, 512)       2359808   \n",
            "_________________________________________________________________\n",
            "block5_conv3 (Conv2D)        (None, 48, 48, 512)       2359808   \n",
            "_________________________________________________________________\n",
            "block5_pool (MaxPooling2D)   (None, 24, 24, 512)       0         \n",
            "_________________________________________________________________\n",
            "flatten_2 (Flatten)          (None, 294912)            0         \n",
            "_________________________________________________________________\n",
            "dense_9 (Dense)              (None, 1024)              301990912 \n",
            "_________________________________________________________________\n",
            "dense_10 (Dense)             (None, 512)               524800    \n",
            "_________________________________________________________________\n",
            "dense_11 (Dense)             (None, 256)               131328    \n",
            "_________________________________________________________________\n",
            "dense_12 (Dense)             (None, 128)               32896     \n",
            "_________________________________________________________________\n",
            "dense_13 (Dense)             (None, 3)                 387       \n",
            "=================================================================\n",
            "Total params: 317,395,011\n",
            "Trainable params: 302,680,323\n",
            "Non-trainable params: 14,714,688\n",
            "_________________________________________________________________\n",
            "Epoch 1/50\n",
            "3000/3000 [==============================] - 525s 173ms/step - loss: 10.6402 - accuracy: 0.8587 - val_loss: 0.1114 - val_accuracy: 0.9623\n",
            "Epoch 2/50\n",
            "3000/3000 [==============================] - 516s 172ms/step - loss: 0.3512 - accuracy: 0.9541 - val_loss: 0.3030 - val_accuracy: 0.9393\n",
            "Epoch 3/50\n",
            "3000/3000 [==============================] - 516s 172ms/step - loss: 0.2903 - accuracy: 0.9813 - val_loss: 0.0978 - val_accuracy: 0.9753\n",
            "Epoch 4/50\n",
            "3000/3000 [==============================] - 516s 172ms/step - loss: 0.0436 - accuracy: 0.9935 - val_loss: 0.2485 - val_accuracy: 0.9567\n",
            "Epoch 5/50\n",
            "3000/3000 [==============================] - 516s 172ms/step - loss: 0.1724 - accuracy: 0.9872 - val_loss: 0.2456 - val_accuracy: 0.9720\n",
            "Epoch 6/50\n",
            "3000/3000 [==============================] - 516s 172ms/step - loss: 0.0514 - accuracy: 0.9929 - val_loss: 0.2165 - val_accuracy: 0.9797\n",
            "Epoch 7/50\n",
            "3000/3000 [==============================] - 516s 172ms/step - loss: 0.0056 - accuracy: 0.9989 - val_loss: 0.3631 - val_accuracy: 0.9517\n",
            "Epoch 8/50\n",
            "3000/3000 [==============================] - 516s 172ms/step - loss: 0.1088 - accuracy: 0.9877 - val_loss: 0.6365 - val_accuracy: 0.9627\n",
            "Epoch 9/50\n",
            "3000/3000 [==============================] - 516s 172ms/step - loss: 0.0569 - accuracy: 0.9926 - val_loss: 0.2227 - val_accuracy: 0.9740\n",
            "Epoch 10/50\n",
            "3000/3000 [==============================] - 516s 172ms/step - loss: 0.0545 - accuracy: 0.9956 - val_loss: 0.6591 - val_accuracy: 0.9740\n",
            "Epoch 11/50\n",
            "3000/3000 [==============================] - 516s 172ms/step - loss: 0.0389 - accuracy: 0.9936 - val_loss: 0.3748 - val_accuracy: 0.9783\n",
            "Epoch 12/50\n",
            "3000/3000 [==============================] - 516s 172ms/step - loss: 0.0191 - accuracy: 0.9965 - val_loss: 0.3224 - val_accuracy: 0.9747\n",
            "Epoch 13/50\n",
            "3000/3000 [==============================] - 516s 172ms/step - loss: 0.0016 - accuracy: 0.9995 - val_loss: 0.4382 - val_accuracy: 0.9783\n",
            "Epoch 14/50\n",
            "3000/3000 [==============================] - 516s 172ms/step - loss: 0.0104 - accuracy: 0.9987 - val_loss: 4.2242 - val_accuracy: 0.9687\n",
            "Epoch 15/50\n",
            "3000/3000 [==============================] - 516s 172ms/step - loss: 0.0418 - accuracy: 0.9969 - val_loss: 1.6242 - val_accuracy: 0.9793\n",
            "Epoch 16/50\n",
            "3000/3000 [==============================] - 516s 172ms/step - loss: 0.0273 - accuracy: 0.9966 - val_loss: 0.2161 - val_accuracy: 0.9773\n",
            "Epoch 17/50\n",
            "3000/3000 [==============================] - 516s 172ms/step - loss: 0.0151 - accuracy: 0.9990 - val_loss: 0.6304 - val_accuracy: 0.9793\n",
            "Epoch 18/50\n",
            "3000/3000 [==============================] - 516s 172ms/step - loss: 0.0263 - accuracy: 0.9959 - val_loss: 0.3355 - val_accuracy: 0.9763\n",
            "Epoch 19/50\n",
            "3000/3000 [==============================] - 516s 172ms/step - loss: 0.0091 - accuracy: 0.9989 - val_loss: 0.4344 - val_accuracy: 0.9760\n",
            "Epoch 20/50\n",
            "3000/3000 [==============================] - 517s 172ms/step - loss: 0.0316 - accuracy: 0.9960 - val_loss: 0.2555 - val_accuracy: 0.9763\n",
            "Epoch 21/50\n",
            "3000/3000 [==============================] - 517s 172ms/step - loss: 0.0143 - accuracy: 0.9986 - val_loss: 0.9074 - val_accuracy: 0.9763\n",
            "Epoch 22/50\n",
            "3000/3000 [==============================] - 517s 172ms/step - loss: 0.0527 - accuracy: 0.9913 - val_loss: 0.2173 - val_accuracy: 0.9773\n",
            "Epoch 23/50\n",
            "3000/3000 [==============================] - 516s 172ms/step - loss: 0.0097 - accuracy: 0.9981 - val_loss: 0.6482 - val_accuracy: 0.9773\n",
            "Epoch 24/50\n",
            "3000/3000 [==============================] - 517s 172ms/step - loss: 0.0017 - accuracy: 1.0000 - val_loss: 0.6448 - val_accuracy: 0.9780\n",
            "Epoch 25/50\n",
            "3000/3000 [==============================] - 516s 172ms/step - loss: 0.0012 - accuracy: 0.9999 - val_loss: 0.6431 - val_accuracy: 0.9780\n",
            "Epoch 26/50\n",
            "3000/3000 [==============================] - 517s 172ms/step - loss: 9.5798e-04 - accuracy: 0.9999 - val_loss: 0.6432 - val_accuracy: 0.9780\n",
            "Epoch 27/50\n",
            "3000/3000 [==============================] - 516s 172ms/step - loss: 0.0018 - accuracy: 0.9998 - val_loss: 0.6440 - val_accuracy: 0.9780\n",
            "Epoch 28/50\n",
            "3000/3000 [==============================] - 516s 172ms/step - loss: 5.8764e-04 - accuracy: 1.0000 - val_loss: 0.6486 - val_accuracy: 0.9780\n",
            "Epoch 29/50\n",
            "3000/3000 [==============================] - 516s 172ms/step - loss: 6.8937e-04 - accuracy: 0.9999 - val_loss: 0.6515 - val_accuracy: 0.9783\n",
            "Epoch 30/50\n",
            "3000/3000 [==============================] - 516s 172ms/step - loss: 0.0026 - accuracy: 0.9997 - val_loss: 0.6645 - val_accuracy: 0.9777\n",
            "Epoch 31/50\n",
            "3000/3000 [==============================] - 516s 172ms/step - loss: 0.0040 - accuracy: 0.9995 - val_loss: 0.6513 - val_accuracy: 0.9783\n",
            "Epoch 32/50\n",
            "3000/3000 [==============================] - 516s 172ms/step - loss: 0.0127 - accuracy: 0.9992 - val_loss: 0.3959 - val_accuracy: 0.9723\n",
            "Epoch 33/50\n",
            "3000/3000 [==============================] - 517s 172ms/step - loss: 0.0581 - accuracy: 0.9974 - val_loss: 0.4075 - val_accuracy: 0.9593\n",
            "Epoch 34/50\n",
            "3000/3000 [==============================] - 517s 172ms/step - loss: 0.0128 - accuracy: 0.9980 - val_loss: 0.3997 - val_accuracy: 0.9743\n",
            "Epoch 35/50\n",
            "3000/3000 [==============================] - 517s 172ms/step - loss: 0.0317 - accuracy: 0.9969 - val_loss: 2.3706 - val_accuracy: 0.9653\n",
            "Epoch 36/50\n",
            "3000/3000 [==============================] - 516s 172ms/step - loss: 0.0163 - accuracy: 0.9993 - val_loss: 1.3200 - val_accuracy: 0.9777\n",
            "Epoch 37/50\n",
            "3000/3000 [==============================] - 516s 172ms/step - loss: 0.0017 - accuracy: 0.9999 - val_loss: 1.0958 - val_accuracy: 0.9790\n",
            "Epoch 38/50\n",
            "3000/3000 [==============================] - 516s 172ms/step - loss: 3.4000e-04 - accuracy: 0.9999 - val_loss: 1.2414 - val_accuracy: 0.9780\n",
            "Epoch 39/50\n",
            "3000/3000 [==============================] - 516s 172ms/step - loss: 1.4629e-07 - accuracy: 1.0000 - val_loss: 1.2982 - val_accuracy: 0.9780\n",
            "Epoch 40/50\n",
            "3000/3000 [==============================] - 516s 172ms/step - loss: 1.7511e-09 - accuracy: 1.0000 - val_loss: 1.3054 - val_accuracy: 0.9780\n",
            "Epoch 41/50\n",
            "3000/3000 [==============================] - 516s 172ms/step - loss: 6.0673e-10 - accuracy: 1.0000 - val_loss: 1.3147 - val_accuracy: 0.9780\n",
            "Epoch 42/50\n",
            "3000/3000 [==============================] - 516s 172ms/step - loss: 7.7789e-10 - accuracy: 1.0000 - val_loss: 1.4103 - val_accuracy: 0.9783\n",
            "Epoch 43/50\n",
            "3000/3000 [==============================] - 516s 172ms/step - loss: 1.3950e-10 - accuracy: 1.0000 - val_loss: 1.4183 - val_accuracy: 0.9780\n",
            "Epoch 44/50\n",
            "3000/3000 [==============================] - 516s 172ms/step - loss: 2.8363e-11 - accuracy: 1.0000 - val_loss: 1.4434 - val_accuracy: 0.9777\n",
            "Epoch 45/50\n",
            "3000/3000 [==============================] - 516s 172ms/step - loss: 1.3673e-11 - accuracy: 1.0000 - val_loss: 1.4716 - val_accuracy: 0.9777\n",
            "Epoch 46/50\n",
            "3000/3000 [==============================] - 516s 172ms/step - loss: 2.1488e-12 - accuracy: 1.0000 - val_loss: 1.5029 - val_accuracy: 0.9770\n",
            "Epoch 47/50\n",
            "3000/3000 [==============================] - 516s 172ms/step - loss: 0.0000e+00 - accuracy: 1.0000 - val_loss: 1.5245 - val_accuracy: 0.9773\n",
            "Epoch 48/50\n",
            "3000/3000 [==============================] - 516s 172ms/step - loss: 0.0000e+00 - accuracy: 1.0000 - val_loss: 1.5462 - val_accuracy: 0.9773\n",
            "Epoch 49/50\n",
            "3000/3000 [==============================] - 517s 172ms/step - loss: 0.0000e+00 - accuracy: 1.0000 - val_loss: 1.5773 - val_accuracy: 0.9773\n",
            "Epoch 50/50\n",
            "3000/3000 [==============================] - 516s 172ms/step - loss: 0.0000e+00 - accuracy: 1.0000 - val_loss: 1.6053 - val_accuracy: 0.9773\n"
          ],
          "name": "stdout"
        },
        {
          "output_type": "error",
          "ename": "TypeError",
          "evalue": "ignored",
          "traceback": [
            "\u001b[0;31m---------------------------------------------------------------------------\u001b[0m",
            "\u001b[0;31mTypeError\u001b[0m                                 Traceback (most recent call last)",
            "\u001b[0;32m<ipython-input-35-9e0a3ed438f0>\u001b[0m in \u001b[0;36m<module>\u001b[0;34m()\u001b[0m\n\u001b[0;32m----> 1\u001b[0;31m \u001b[0mExecute_Model_VGG\u001b[0m\u001b[0;34m(\u001b[0m\u001b[0;34m)\u001b[0m\u001b[0;34m\u001b[0m\u001b[0;34m\u001b[0m\u001b[0m\n\u001b[0m",
            "\u001b[0;32m<ipython-input-33-9b6f8a8f1812>\u001b[0m in \u001b[0;36mExecute_Model_VGG\u001b[0;34m()\u001b[0m\n\u001b[1;32m      3\u001b[0m     \u001b[0mtrain_cnn\u001b[0m\u001b[0;34m,\u001b[0m \u001b[0mvalidation_cnn\u001b[0m \u001b[0;34m=\u001b[0m \u001b[0mPreProcess\u001b[0m\u001b[0;34m(\u001b[0m\u001b[0mdata_dir\u001b[0m\u001b[0;34m,\u001b[0m\u001b[0mtarget_size\u001b[0m\u001b[0;34m,\u001b[0m\u001b[0mbatch_size\u001b[0m\u001b[0;34m,\u001b[0m\u001b[0mshuffle\u001b[0m\u001b[0;34m,\u001b[0m\u001b[0mseed\u001b[0m\u001b[0;34m)\u001b[0m\u001b[0;34m\u001b[0m\u001b[0;34m\u001b[0m\u001b[0m\n\u001b[1;32m      4\u001b[0m     \u001b[0mmodel_vgg\u001b[0m \u001b[0;34m=\u001b[0m \u001b[0mCompile_Model_VGG\u001b[0m\u001b[0;34m(\u001b[0m\u001b[0mloss\u001b[0m\u001b[0;34m,\u001b[0m \u001b[0moptimizer_cnn\u001b[0m\u001b[0;34m,\u001b[0m \u001b[0mmetrics\u001b[0m\u001b[0;34m)\u001b[0m\u001b[0;34m\u001b[0m\u001b[0;34m\u001b[0m\u001b[0m\n\u001b[0;32m----> 5\u001b[0;31m     \u001b[0mmodel_vgg\u001b[0m\u001b[0;34m,\u001b[0m \u001b[0mhistory_vgg\u001b[0m \u001b[0;34m=\u001b[0m \u001b[0mTrain_Model_VGG\u001b[0m\u001b[0;34m(\u001b[0m\u001b[0mmodel_vgg\u001b[0m\u001b[0;34m,\u001b[0m \u001b[0mtrain_cnn\u001b[0m\u001b[0;34m,\u001b[0m \u001b[0mnb_epoch\u001b[0m\u001b[0;34m,\u001b[0m \u001b[0mvalidation_cnn\u001b[0m\u001b[0;34m)\u001b[0m\u001b[0;34m\u001b[0m\u001b[0;34m\u001b[0m\u001b[0m\n\u001b[0m\u001b[1;32m      6\u001b[0m \u001b[0;34m\u001b[0m\u001b[0m\n\u001b[1;32m      7\u001b[0m     \u001b[0;31m# Plotar a curva de aprendizagem\u001b[0m\u001b[0;34m\u001b[0m\u001b[0;34m\u001b[0m\u001b[0;34m\u001b[0m\u001b[0m\n",
            "\u001b[0;31mTypeError\u001b[0m: cannot unpack non-iterable History object"
          ]
        }
      ]
    },
    {
      "cell_type": "markdown",
      "metadata": {
        "id": "GvVQ4eNqDWID"
      },
      "source": [
        "### Chamada para avaliação da VGG"
      ]
    },
    {
      "cell_type": "code",
      "metadata": {
        "colab": {
          "base_uri": "https://localhost:8080/"
        },
        "id": "roJheMrn3sbX",
        "outputId": "308b91d9-f3ab-4156-df47-b79951442e0b"
      },
      "source": [
        "Evaluate_Model_VGG()"
      ],
      "execution_count": null,
      "outputs": [
        {
          "output_type": "stream",
          "text": [
            "Found 12000 images belonging to 3 classes.\n",
            "Found 3000 images belonging to 3 classes.\n",
            "\n",
            "Matriz de Confusão\n",
            "[[340 325 335]\n",
            " [325 334 341]\n",
            " [319 340 341]] \n",
            "\n",
            " ---- F1 Score ----\n",
            "0.3383333333333333\n",
            "0.3383449828746851\n",
            "0.33834498287468506 \n",
            "\n",
            " ---- Recall ----\n",
            "0.3383333333333333\n",
            "0.3383333333333334\n",
            "0.3383333333333333 \n",
            "\n",
            " ---- Precision ----\n",
            "0.3383333333333333\n",
            "0.3383875637634901\n",
            "0.3383875637634901 \n",
            "\n"
          ],
          "name": "stdout"
        }
      ]
    },
    {
      "cell_type": "markdown",
      "metadata": {
        "id": "jTV_f7Ga0ukn"
      },
      "source": [
        "# SqueezeNet"
      ]
    },
    {
      "cell_type": "markdown",
      "metadata": {
        "id": "owghqPlyEF9E"
      },
      "source": [
        "### Modelo SqueezeNet"
      ]
    },
    {
      "cell_type": "code",
      "metadata": {
        "id": "ZNGdcVZE0zfT"
      },
      "source": [
        "sq1x1 = \"squeeze1x1\"\n",
        "exp1x1 = \"expand1x1\"\n",
        "exp3x3 = \"expand3x3\"\n",
        "relu = \"relu_\"\n",
        "\n",
        "WEIGHTS_PATH = \"https://github.com/rcmalli/keras-squeezenet/releases/download/v1.0/squeezenet_weights_tf_dim_ordering_tf_kernels.h5\"\n",
        "WEIGHTS_PATH_NO_TOP = \"https://github.com/rcmalli/keras-squeezenet/releases/download/v1.0/squeezenet_weights_tf_dim_ordering_tf_kernels_notop.h5\"\n",
        "\n",
        "def fire_module(x, fire_id, squeeze=16, expand=64):\n",
        "    s_id = 'fire' + str(fire_id) + '/'\n",
        "\n",
        "    if K.image_data_format() == 'channels_first':\n",
        "        channel_axis = 1\n",
        "    else:\n",
        "        channel_axis = 3\n",
        "    \n",
        "    x = Convolution2D(squeeze, (1, 1), padding='valid', name=s_id + sq1x1)(x)\n",
        "    x = Activation('relu', name=s_id + relu + sq1x1)(x)\n",
        "\n",
        "    left = Convolution2D(expand, (1, 1), padding='valid', name=s_id + exp1x1)(x)\n",
        "    left = Activation('relu', name=s_id + relu + exp1x1)(left)\n",
        "\n",
        "    right = Convolution2D(expand, (3, 3), padding='same', name=s_id + exp3x3)(x)\n",
        "    right = Activation('relu', name=s_id + relu + exp3x3)(right)\n",
        "\n",
        "    x = concatenate([left, right], axis=channel_axis, name=s_id + 'concat')\n",
        "    return x\n",
        "\n",
        "\n",
        "def Model_SqzNet(include_top=True, weights='imagenet', \n",
        "               input_tensor=None, input_shape=None,\n",
        "               pooling=None,\n",
        "               use_bn_on_input = False,\n",
        "               classes=1000):\n",
        "    \"\"\"Instantiates the SqueezeNet architecture.\n",
        "    \"\"\"\n",
        "        \n",
        "    if weights not in {'imagenet', None}:\n",
        "        raise ValueError('The `weights` argument should be either '\n",
        "                         '`None` (random initialization) or `imagenet` '\n",
        "                         '(pre-training on ImageNet).')\n",
        "\n",
        "    if weights == 'imagenet' and classes != 1000:\n",
        "        raise ValueError('If using `weights` as imagenet with `include_top`'\n",
        "                         ' as true, `classes` should be 1000')\n",
        "\n",
        "\n",
        "    input_shape = _obtain_input_shape(input_shape,\n",
        "                                      default_size=227,\n",
        "                                      min_size=48,\n",
        "                                      data_format=K.image_data_format(),\n",
        "                                      require_flatten=include_top)\n",
        "\n",
        "    if input_tensor is None:\n",
        "        raw_img_input = Input(shape=input_shape)\n",
        "    else:\n",
        "        if not K.is_keras_tensor(input_tensor):\n",
        "            img_input = Input(tensor=input_tensor, shape=input_shape)\n",
        "        else:\n",
        "            img_input = input_tensor\n",
        "    if use_bn_on_input:\n",
        "        img_input = BatchNormalization()(raw_img_input)\n",
        "    else:\n",
        "        img_input = raw_img_input\n",
        "\n",
        "    x = Convolution2D(64, (3, 3), strides=(2, 2), padding='valid', name='conv1')(img_input)\n",
        "    x = Activation('relu', name='relu_conv1')(x)\n",
        "    x = MaxPooling2D(pool_size=(3, 3), strides=(2, 2), name='pool1')(x)\n",
        "\n",
        "    x = fire_module(x, fire_id=2, squeeze=16, expand=64)\n",
        "    x = fire_module(x, fire_id=3, squeeze=16, expand=64)\n",
        "    x = MaxPooling2D(pool_size=(3, 3), strides=(2, 2), name='pool3')(x)\n",
        "\n",
        "    x = fire_module(x, fire_id=4, squeeze=32, expand=128)\n",
        "    x = fire_module(x, fire_id=5, squeeze=32, expand=128)\n",
        "    x = MaxPooling2D(pool_size=(3, 3), strides=(2, 2), name='pool5')(x)\n",
        "\n",
        "    x = fire_module(x, fire_id=6, squeeze=48, expand=192)\n",
        "    x = fire_module(x, fire_id=7, squeeze=48, expand=192)\n",
        "    x = fire_module(x, fire_id=8, squeeze=64, expand=256)\n",
        "    x = fire_module(x, fire_id=9, squeeze=64, expand=256)\n",
        "    \n",
        "    if include_top:\n",
        "    \n",
        "        x = Dropout(0.5, name='drop9')(x)\n",
        "\n",
        "        x = Convolution2D(classes, (1, 1), padding='valid', name='conv10')(x)\n",
        "        x = Activation('relu', name='relu_conv10')(x)\n",
        "        x = GlobalAveragePooling2D()(x)\n",
        "        x = Activation('softmax', name='loss')(x)\n",
        "    else:\n",
        "        if pooling == 'avg':\n",
        "            x = GlobalAveragePooling2D()(x)\n",
        "        elif pooling=='max':\n",
        "            x = GlobalMaxPooling2D()(x)\n",
        "        elif pooling==None:\n",
        "            pass\n",
        "        else:\n",
        "            raise ValueError(\"Unknown argument for 'pooling'=\" + pooling)\n",
        "\n",
        "    if input_tensor is not None:\n",
        "        inputs = get_source_inputs(input_tensor)\n",
        "    else:\n",
        "        inputs = img_input\n",
        "\n",
        "    model = Model(inputs, x, name='squeezenet')\n",
        "\n",
        "    if weights == 'imagenet':\n",
        "        if include_top:\n",
        "            weights_path = get_file('squeezenet_weights_tf_dim_ordering_tf_kernels.h5',\n",
        "                                    WEIGHTS_PATH,\n",
        "                                    cache_subdir='models')\n",
        "        else:\n",
        "            weights_path = get_file('squeezenet_weights_tf_dim_ordering_tf_kernels_notop.h5',\n",
        "                                    WEIGHTS_PATH_NO_TOP,\n",
        "                                    cache_subdir='models')\n",
        "            \n",
        "        model.load_weights(weights_path)\n",
        "        if K.backend() == 'theano':\n",
        "            layer_utils.convert_all_kernels_in_model(model)\n",
        "\n",
        "        if K.image_data_format() == 'channels_first':\n",
        "\n",
        "            if K.backend() == 'tensorflow':\n",
        "                print('You are using the TensorFlow backend, yet you '\n",
        "                              'are using the Theano '\n",
        "                              'image data format convention '\n",
        "                              '(`image_data_format=\"channels_first\"`). '\n",
        "                              'For best performance, set '\n",
        "                              '`image_data_format=\"channels_last\"` in '\n",
        "                              'your Keras config '\n",
        "                              'at ~/.keras/keras.json.')\n",
        "    return model"
      ],
      "execution_count": null,
      "outputs": []
    },
    {
      "cell_type": "markdown",
      "metadata": {
        "id": "FQxas_T8EpAT"
      },
      "source": [
        "### Função para compilar o modelo da SqueezeNet"
      ]
    },
    {
      "cell_type": "code",
      "metadata": {
        "id": "P445-sYxlwMu"
      },
      "source": [
        "def Compile_Model_SqzNet(input_shape, nb_class, loss, optimizer_sn, metrics):\n",
        " \n",
        "  model_sn = Model_SqzNet(input_shape=input_shape,  weights=None, classes = nb_class)\n",
        "  sgd = SGD(lr=0.001, decay=0.0002, momentum=0.9, nesterov=True)\n",
        "  model_sn.compile(loss=loss, optimizer=optimizer_sn, metrics=[metrics])\n",
        "  model_sn.summary()\n",
        "\n",
        "  return model_sn"
      ],
      "execution_count": null,
      "outputs": []
    },
    {
      "cell_type": "markdown",
      "metadata": {
        "id": "O6co5yNMElFk"
      },
      "source": [
        "### Função para treinamento  da SqueezeNet"
      ]
    },
    {
      "cell_type": "code",
      "metadata": {
        "id": "gH-cEMiO2_wQ"
      },
      "source": [
        "def Train_Model_SqzNet(model_sn, train_cnn, nb_epoch, validation_cnn):\n",
        "    \n",
        "    history_sn = model_sn.fit(train_cnn, epochs = nb_epoch,  validation_data=validation_cnn)\n",
        "\n",
        "    # salvar modelo para posterior avaliação      \n",
        "    model_json = model_sn.to_json()\n",
        "    model_name = \"Modelo_SqzNet\"\n",
        "    with open(base_dir + '/models/' + model_name + \".json\", \"w\") as json_file:\n",
        "      json_file.write(model_json)\n",
        "    model_sn.save_weights(base_dir + '/weights/' + model_name + '.h5')\n",
        "\n",
        "    return history_sn"
      ],
      "execution_count": null,
      "outputs": []
    },
    {
      "cell_type": "markdown",
      "metadata": {
        "id": "Yzr9rgQbEcNq"
      },
      "source": [
        "### Função para execuação  da SqueezeNet"
      ]
    },
    {
      "cell_type": "code",
      "metadata": {
        "id": "yAOX9uo3mFBm"
      },
      "source": [
        "def Execute_Model_SqzNet():\n",
        "    \n",
        "    train_cnn, validation_cnn = PreProcess(data_dir,target_size,batch_size,shuffle,seed)\n",
        "    model_sn = Compile_Model_SqzNet(input_shape, nb_class, loss, optimizer_sn, metrics)\n",
        "    history_sn = Train_Model_SqzNet(model_sn, train_cnn, nb_epoch, validation_cnn)\n",
        "\n",
        "    # Plotar a curva de aprendizagem\n",
        "    history_dict = history_sn.history\n",
        "    loss_values = history_dict['loss']\n",
        "    val_loss_values = history_dict['val_loss']\n",
        "    accuracy = history_dict['accuracy']\n",
        "    val_accuracy = history_dict['val_accuracy']\n",
        "    \n",
        "    epochs = range(1, len(loss_values) + 1)\n",
        "    fig, ax = plt.subplots(1, 1, figsize=(10, 6))\n",
        "\n",
        "    # Plotar a Perdas vs Épocas\n",
        "    ax.plot(epochs, loss_values, 'bo', label='Perda de treinamento')\n",
        "    ax.plot(epochs, val_loss_values, 'b', label='Perda de validação')\n",
        "    ax.set_title('Perdas de Treinamento & Validação', fontsize=16)\n",
        "    ax.set_xlabel('Épocas', fontsize=16)\n",
        "    ax.set_ylabel('Perdas', fontsize=16)\n",
        "    ax.legend()\n",
        "\n",
        "    ax.figure.savefig(base_dir + '/graphs/' + 'Curva_de_aprendizagem_SqzNet.png')"
      ],
      "execution_count": null,
      "outputs": []
    },
    {
      "cell_type": "markdown",
      "metadata": {
        "id": "HUwsp1iWEbBU"
      },
      "source": [
        "### Função para avaliação  da SqueezeNet"
      ]
    },
    {
      "cell_type": "code",
      "metadata": {
        "id": "-5wa7dZ229Za"
      },
      "source": [
        "def Evaluate_Model_SqzNet():\n",
        "    \n",
        "    train_cnn, validation_cnn = PreProcess(data_dir,target_size,batch_size,shuffle,seed)\n",
        "\n",
        "    # Recuperando o modelo Treinado da CNN\n",
        "    with open(base_dir + '/models/' + 'Modelo_SqzNet.json','r') as modelo:\n",
        "      json = modelo.read()\n",
        "    model_vgg = model_from_json(json)\n",
        "\n",
        "    # Recuperando os pesos do treinamento da CNN\n",
        "    model_vgg.load_weights(base_dir + '/weights/' + 'Modelo_SqzNet.h5') \n",
        "\n",
        "    Y_pred = model_vgg.predict(validation_cnn)\n",
        "    y_pred = np.argmax(Y_pred, axis=1)\n",
        "    \n",
        "    print('\\nMatriz de Confusão')\n",
        "    print(confusion_matrix(validation_cnn.classes, y_pred),'\\n')\n",
        "\n",
        "    print(\" ---- F1 Score ----\")\n",
        "    print(f1_score(validation_cnn.classes, y_pred, average = 'micro'))\n",
        "    print(f1_score(validation_cnn.classes, y_pred, average = 'macro'))\n",
        "    print(f1_score(validation_cnn.classes, y_pred, average = 'weighted'),'\\n')\n",
        "\n",
        "    print(\" ---- Recall ----\")\n",
        "    print(recall_score(validation_cnn.classes, y_pred, average = 'micro'))\n",
        "    print(recall_score(validation_cnn.classes, y_pred, average = 'macro'))\n",
        "    print(recall_score(validation_cnn.classes, y_pred, average = 'weighted'),'\\n')\n",
        "    \n",
        "    print(\" ---- Precision ----\")\n",
        "    print(precision_score(validation_cnn.classes, y_pred, average = 'micro', zero_division=1))\n",
        "    print(precision_score(validation_cnn.classes, y_pred, average = 'macro', zero_division=1))\n",
        "    print(precision_score(validation_cnn.classes, y_pred, average = 'weighted', zero_division=1),'\\n')"
      ],
      "execution_count": null,
      "outputs": []
    },
    {
      "cell_type": "markdown",
      "metadata": {
        "id": "n67p6KcnETjh"
      },
      "source": [
        "### Chamada para execução da SqueezeNet"
      ]
    },
    {
      "cell_type": "code",
      "metadata": {
        "id": "UDJ6IHafy6d8",
        "colab": {
          "base_uri": "https://localhost:8080/"
        },
        "outputId": "eac2299b-e5a7-4804-be51-af9506cdbd5a"
      },
      "source": [
        "Execute_Model_SqzNet()"
      ],
      "execution_count": null,
      "outputs": [
        {
          "output_type": "stream",
          "text": [
            "Found 12000 images belonging to 3 classes.\n",
            "Found 3000 images belonging to 3 classes.\n",
            "Model: \"squeezenet\"\n",
            "__________________________________________________________________________________________________\n",
            "Layer (type)                    Output Shape         Param #     Connected to                     \n",
            "==================================================================================================\n",
            "input_3 (InputLayer)            [(None, 768, 768, 3) 0                                            \n",
            "__________________________________________________________________________________________________\n",
            "conv1 (Conv2D)                  (None, 383, 383, 64) 1792        input_3[0][0]                    \n",
            "__________________________________________________________________________________________________\n",
            "relu_conv1 (Activation)         (None, 383, 383, 64) 0           conv1[0][0]                      \n",
            "__________________________________________________________________________________________________\n",
            "pool1 (MaxPooling2D)            (None, 191, 191, 64) 0           relu_conv1[0][0]                 \n",
            "__________________________________________________________________________________________________\n",
            "fire2/squeeze1x1 (Conv2D)       (None, 191, 191, 16) 1040        pool1[0][0]                      \n",
            "__________________________________________________________________________________________________\n",
            "fire2/relu_squeeze1x1 (Activati (None, 191, 191, 16) 0           fire2/squeeze1x1[0][0]           \n",
            "__________________________________________________________________________________________________\n",
            "fire2/expand1x1 (Conv2D)        (None, 191, 191, 64) 1088        fire2/relu_squeeze1x1[0][0]      \n",
            "__________________________________________________________________________________________________\n",
            "fire2/expand3x3 (Conv2D)        (None, 191, 191, 64) 9280        fire2/relu_squeeze1x1[0][0]      \n",
            "__________________________________________________________________________________________________\n",
            "fire2/relu_expand1x1 (Activatio (None, 191, 191, 64) 0           fire2/expand1x1[0][0]            \n",
            "__________________________________________________________________________________________________\n",
            "fire2/relu_expand3x3 (Activatio (None, 191, 191, 64) 0           fire2/expand3x3[0][0]            \n",
            "__________________________________________________________________________________________________\n",
            "fire2/concat (Concatenate)      (None, 191, 191, 128 0           fire2/relu_expand1x1[0][0]       \n",
            "                                                                 fire2/relu_expand3x3[0][0]       \n",
            "__________________________________________________________________________________________________\n",
            "fire3/squeeze1x1 (Conv2D)       (None, 191, 191, 16) 2064        fire2/concat[0][0]               \n",
            "__________________________________________________________________________________________________\n",
            "fire3/relu_squeeze1x1 (Activati (None, 191, 191, 16) 0           fire3/squeeze1x1[0][0]           \n",
            "__________________________________________________________________________________________________\n",
            "fire3/expand1x1 (Conv2D)        (None, 191, 191, 64) 1088        fire3/relu_squeeze1x1[0][0]      \n",
            "__________________________________________________________________________________________________\n",
            "fire3/expand3x3 (Conv2D)        (None, 191, 191, 64) 9280        fire3/relu_squeeze1x1[0][0]      \n",
            "__________________________________________________________________________________________________\n",
            "fire3/relu_expand1x1 (Activatio (None, 191, 191, 64) 0           fire3/expand1x1[0][0]            \n",
            "__________________________________________________________________________________________________\n",
            "fire3/relu_expand3x3 (Activatio (None, 191, 191, 64) 0           fire3/expand3x3[0][0]            \n",
            "__________________________________________________________________________________________________\n",
            "fire3/concat (Concatenate)      (None, 191, 191, 128 0           fire3/relu_expand1x1[0][0]       \n",
            "                                                                 fire3/relu_expand3x3[0][0]       \n",
            "__________________________________________________________________________________________________\n",
            "pool3 (MaxPooling2D)            (None, 95, 95, 128)  0           fire3/concat[0][0]               \n",
            "__________________________________________________________________________________________________\n",
            "fire4/squeeze1x1 (Conv2D)       (None, 95, 95, 32)   4128        pool3[0][0]                      \n",
            "__________________________________________________________________________________________________\n",
            "fire4/relu_squeeze1x1 (Activati (None, 95, 95, 32)   0           fire4/squeeze1x1[0][0]           \n",
            "__________________________________________________________________________________________________\n",
            "fire4/expand1x1 (Conv2D)        (None, 95, 95, 128)  4224        fire4/relu_squeeze1x1[0][0]      \n",
            "__________________________________________________________________________________________________\n",
            "fire4/expand3x3 (Conv2D)        (None, 95, 95, 128)  36992       fire4/relu_squeeze1x1[0][0]      \n",
            "__________________________________________________________________________________________________\n",
            "fire4/relu_expand1x1 (Activatio (None, 95, 95, 128)  0           fire4/expand1x1[0][0]            \n",
            "__________________________________________________________________________________________________\n",
            "fire4/relu_expand3x3 (Activatio (None, 95, 95, 128)  0           fire4/expand3x3[0][0]            \n",
            "__________________________________________________________________________________________________\n",
            "fire4/concat (Concatenate)      (None, 95, 95, 256)  0           fire4/relu_expand1x1[0][0]       \n",
            "                                                                 fire4/relu_expand3x3[0][0]       \n",
            "__________________________________________________________________________________________________\n",
            "fire5/squeeze1x1 (Conv2D)       (None, 95, 95, 32)   8224        fire4/concat[0][0]               \n",
            "__________________________________________________________________________________________________\n",
            "fire5/relu_squeeze1x1 (Activati (None, 95, 95, 32)   0           fire5/squeeze1x1[0][0]           \n",
            "__________________________________________________________________________________________________\n",
            "fire5/expand1x1 (Conv2D)        (None, 95, 95, 128)  4224        fire5/relu_squeeze1x1[0][0]      \n",
            "__________________________________________________________________________________________________\n",
            "fire5/expand3x3 (Conv2D)        (None, 95, 95, 128)  36992       fire5/relu_squeeze1x1[0][0]      \n",
            "__________________________________________________________________________________________________\n",
            "fire5/relu_expand1x1 (Activatio (None, 95, 95, 128)  0           fire5/expand1x1[0][0]            \n",
            "__________________________________________________________________________________________________\n",
            "fire5/relu_expand3x3 (Activatio (None, 95, 95, 128)  0           fire5/expand3x3[0][0]            \n",
            "__________________________________________________________________________________________________\n",
            "fire5/concat (Concatenate)      (None, 95, 95, 256)  0           fire5/relu_expand1x1[0][0]       \n",
            "                                                                 fire5/relu_expand3x3[0][0]       \n",
            "__________________________________________________________________________________________________\n",
            "pool5 (MaxPooling2D)            (None, 47, 47, 256)  0           fire5/concat[0][0]               \n",
            "__________________________________________________________________________________________________\n",
            "fire6/squeeze1x1 (Conv2D)       (None, 47, 47, 48)   12336       pool5[0][0]                      \n",
            "__________________________________________________________________________________________________\n",
            "fire6/relu_squeeze1x1 (Activati (None, 47, 47, 48)   0           fire6/squeeze1x1[0][0]           \n",
            "__________________________________________________________________________________________________\n",
            "fire6/expand1x1 (Conv2D)        (None, 47, 47, 192)  9408        fire6/relu_squeeze1x1[0][0]      \n",
            "__________________________________________________________________________________________________\n",
            "fire6/expand3x3 (Conv2D)        (None, 47, 47, 192)  83136       fire6/relu_squeeze1x1[0][0]      \n",
            "__________________________________________________________________________________________________\n",
            "fire6/relu_expand1x1 (Activatio (None, 47, 47, 192)  0           fire6/expand1x1[0][0]            \n",
            "__________________________________________________________________________________________________\n",
            "fire6/relu_expand3x3 (Activatio (None, 47, 47, 192)  0           fire6/expand3x3[0][0]            \n",
            "__________________________________________________________________________________________________\n",
            "fire6/concat (Concatenate)      (None, 47, 47, 384)  0           fire6/relu_expand1x1[0][0]       \n",
            "                                                                 fire6/relu_expand3x3[0][0]       \n",
            "__________________________________________________________________________________________________\n",
            "fire7/squeeze1x1 (Conv2D)       (None, 47, 47, 48)   18480       fire6/concat[0][0]               \n",
            "__________________________________________________________________________________________________\n",
            "fire7/relu_squeeze1x1 (Activati (None, 47, 47, 48)   0           fire7/squeeze1x1[0][0]           \n",
            "__________________________________________________________________________________________________\n",
            "fire7/expand1x1 (Conv2D)        (None, 47, 47, 192)  9408        fire7/relu_squeeze1x1[0][0]      \n",
            "__________________________________________________________________________________________________\n",
            "fire7/expand3x3 (Conv2D)        (None, 47, 47, 192)  83136       fire7/relu_squeeze1x1[0][0]      \n",
            "__________________________________________________________________________________________________\n",
            "fire7/relu_expand1x1 (Activatio (None, 47, 47, 192)  0           fire7/expand1x1[0][0]            \n",
            "__________________________________________________________________________________________________\n",
            "fire7/relu_expand3x3 (Activatio (None, 47, 47, 192)  0           fire7/expand3x3[0][0]            \n",
            "__________________________________________________________________________________________________\n",
            "fire7/concat (Concatenate)      (None, 47, 47, 384)  0           fire7/relu_expand1x1[0][0]       \n",
            "                                                                 fire7/relu_expand3x3[0][0]       \n",
            "__________________________________________________________________________________________________\n",
            "fire8/squeeze1x1 (Conv2D)       (None, 47, 47, 64)   24640       fire7/concat[0][0]               \n",
            "__________________________________________________________________________________________________\n",
            "fire8/relu_squeeze1x1 (Activati (None, 47, 47, 64)   0           fire8/squeeze1x1[0][0]           \n",
            "__________________________________________________________________________________________________\n",
            "fire8/expand1x1 (Conv2D)        (None, 47, 47, 256)  16640       fire8/relu_squeeze1x1[0][0]      \n",
            "__________________________________________________________________________________________________\n",
            "fire8/expand3x3 (Conv2D)        (None, 47, 47, 256)  147712      fire8/relu_squeeze1x1[0][0]      \n",
            "__________________________________________________________________________________________________\n",
            "fire8/relu_expand1x1 (Activatio (None, 47, 47, 256)  0           fire8/expand1x1[0][0]            \n",
            "__________________________________________________________________________________________________\n",
            "fire8/relu_expand3x3 (Activatio (None, 47, 47, 256)  0           fire8/expand3x3[0][0]            \n",
            "__________________________________________________________________________________________________\n",
            "fire8/concat (Concatenate)      (None, 47, 47, 512)  0           fire8/relu_expand1x1[0][0]       \n",
            "                                                                 fire8/relu_expand3x3[0][0]       \n",
            "__________________________________________________________________________________________________\n",
            "fire9/squeeze1x1 (Conv2D)       (None, 47, 47, 64)   32832       fire8/concat[0][0]               \n",
            "__________________________________________________________________________________________________\n",
            "fire9/relu_squeeze1x1 (Activati (None, 47, 47, 64)   0           fire9/squeeze1x1[0][0]           \n",
            "__________________________________________________________________________________________________\n",
            "fire9/expand1x1 (Conv2D)        (None, 47, 47, 256)  16640       fire9/relu_squeeze1x1[0][0]      \n",
            "__________________________________________________________________________________________________\n",
            "fire9/expand3x3 (Conv2D)        (None, 47, 47, 256)  147712      fire9/relu_squeeze1x1[0][0]      \n",
            "__________________________________________________________________________________________________\n",
            "fire9/relu_expand1x1 (Activatio (None, 47, 47, 256)  0           fire9/expand1x1[0][0]            \n",
            "__________________________________________________________________________________________________\n",
            "fire9/relu_expand3x3 (Activatio (None, 47, 47, 256)  0           fire9/expand3x3[0][0]            \n",
            "__________________________________________________________________________________________________\n",
            "fire9/concat (Concatenate)      (None, 47, 47, 512)  0           fire9/relu_expand1x1[0][0]       \n",
            "                                                                 fire9/relu_expand3x3[0][0]       \n",
            "__________________________________________________________________________________________________\n",
            "drop9 (Dropout)                 (None, 47, 47, 512)  0           fire9/concat[0][0]               \n",
            "__________________________________________________________________________________________________\n",
            "conv10 (Conv2D)                 (None, 47, 47, 3)    1539        drop9[0][0]                      \n",
            "__________________________________________________________________________________________________\n",
            "relu_conv10 (Activation)        (None, 47, 47, 3)    0           conv10[0][0]                     \n",
            "__________________________________________________________________________________________________\n",
            "global_average_pooling2d (Globa (None, 3)            0           relu_conv10[0][0]                \n",
            "__________________________________________________________________________________________________\n",
            "loss (Activation)               (None, 3)            0           global_average_pooling2d[0][0]   \n",
            "==================================================================================================\n",
            "Total params: 724,035\n",
            "Trainable params: 724,035\n",
            "Non-trainable params: 0\n",
            "__________________________________________________________________________________________________\n",
            "Epoch 1/50\n",
            "3000/3000 [==============================] - 242s 80ms/step - loss: 0.9621 - accuracy: 0.4784 - val_loss: 0.6167 - val_accuracy: 0.6923\n",
            "Epoch 2/50\n",
            "3000/3000 [==============================] - 240s 80ms/step - loss: 0.4974 - accuracy: 0.7953 - val_loss: 0.3222 - val_accuracy: 0.8860\n",
            "Epoch 3/50\n",
            "3000/3000 [==============================] - 241s 80ms/step - loss: 0.3239 - accuracy: 0.8771 - val_loss: 0.5511 - val_accuracy: 0.6990\n",
            "Epoch 4/50\n",
            "3000/3000 [==============================] - 241s 80ms/step - loss: 0.4821 - accuracy: 0.7637 - val_loss: 0.2933 - val_accuracy: 0.8823\n",
            "Epoch 5/50\n",
            "3000/3000 [==============================] - 241s 80ms/step - loss: 0.2792 - accuracy: 0.8872 - val_loss: 0.2340 - val_accuracy: 0.9080\n",
            "Epoch 6/50\n",
            "3000/3000 [==============================] - 241s 80ms/step - loss: 0.2533 - accuracy: 0.9029 - val_loss: 0.2150 - val_accuracy: 0.9073\n",
            "Epoch 7/50\n",
            "3000/3000 [==============================] - 241s 80ms/step - loss: 0.2361 - accuracy: 0.9083 - val_loss: 0.1919 - val_accuracy: 0.9163\n",
            "Epoch 8/50\n",
            "3000/3000 [==============================] - 241s 80ms/step - loss: 0.2121 - accuracy: 0.9185 - val_loss: 0.1811 - val_accuracy: 0.9183\n",
            "Epoch 9/50\n",
            "3000/3000 [==============================] - 240s 80ms/step - loss: 0.2008 - accuracy: 0.9225 - val_loss: 0.1640 - val_accuracy: 0.9350\n",
            "Epoch 10/50\n",
            "3000/3000 [==============================] - 237s 79ms/step - loss: 0.1954 - accuracy: 0.9214 - val_loss: 0.1691 - val_accuracy: 0.9313\n",
            "Epoch 11/50\n",
            "3000/3000 [==============================] - 237s 79ms/step - loss: 0.1784 - accuracy: 0.9296 - val_loss: 0.2809 - val_accuracy: 0.8673\n",
            "Epoch 12/50\n",
            "3000/3000 [==============================] - 237s 79ms/step - loss: 0.1647 - accuracy: 0.9359 - val_loss: 0.1617 - val_accuracy: 0.9333\n",
            "Epoch 13/50\n",
            "3000/3000 [==============================] - 238s 79ms/step - loss: 0.1687 - accuracy: 0.9354 - val_loss: 0.1322 - val_accuracy: 0.9470\n",
            "Epoch 14/50\n",
            "3000/3000 [==============================] - 238s 79ms/step - loss: 0.1543 - accuracy: 0.9363 - val_loss: 0.3653 - val_accuracy: 0.8853\n",
            "Epoch 15/50\n",
            "3000/3000 [==============================] - 238s 79ms/step - loss: 0.1811 - accuracy: 0.9311 - val_loss: 0.1798 - val_accuracy: 0.9387\n",
            "Epoch 16/50\n",
            "3000/3000 [==============================] - 238s 79ms/step - loss: 0.2002 - accuracy: 0.9185 - val_loss: 0.2026 - val_accuracy: 0.9130\n",
            "Epoch 17/50\n",
            "3000/3000 [==============================] - 238s 79ms/step - loss: 0.1901 - accuracy: 0.9222 - val_loss: 0.1705 - val_accuracy: 0.9300\n",
            "Epoch 18/50\n",
            "3000/3000 [==============================] - 238s 79ms/step - loss: 0.1670 - accuracy: 0.9332 - val_loss: 0.1420 - val_accuracy: 0.9473\n",
            "Epoch 19/50\n",
            "3000/3000 [==============================] - 238s 79ms/step - loss: 0.1526 - accuracy: 0.9402 - val_loss: 0.1727 - val_accuracy: 0.9347\n",
            "Epoch 20/50\n",
            "3000/3000 [==============================] - 238s 79ms/step - loss: 0.1362 - accuracy: 0.9464 - val_loss: 0.1788 - val_accuracy: 0.9333\n",
            "Epoch 21/50\n",
            "3000/3000 [==============================] - 238s 79ms/step - loss: 0.1320 - accuracy: 0.9481 - val_loss: 0.1102 - val_accuracy: 0.9557\n",
            "Epoch 22/50\n",
            "3000/3000 [==============================] - 238s 79ms/step - loss: 0.1321 - accuracy: 0.9485 - val_loss: 0.1220 - val_accuracy: 0.9533\n",
            "Epoch 23/50\n",
            "3000/3000 [==============================] - 236s 79ms/step - loss: 0.1296 - accuracy: 0.9474 - val_loss: 0.1118 - val_accuracy: 0.9550\n",
            "Epoch 24/50\n",
            "3000/3000 [==============================] - 232s 77ms/step - loss: 0.1226 - accuracy: 0.9493 - val_loss: 0.1109 - val_accuracy: 0.9570\n",
            "Epoch 25/50\n",
            "3000/3000 [==============================] - 232s 77ms/step - loss: 0.1222 - accuracy: 0.9530 - val_loss: 0.1045 - val_accuracy: 0.9623\n",
            "Epoch 26/50\n",
            "3000/3000 [==============================] - 232s 77ms/step - loss: 0.1152 - accuracy: 0.9521 - val_loss: 0.1065 - val_accuracy: 0.9567\n",
            "Epoch 27/50\n",
            "3000/3000 [==============================] - 232s 77ms/step - loss: 0.1160 - accuracy: 0.9550 - val_loss: 0.1122 - val_accuracy: 0.9543\n",
            "Epoch 28/50\n",
            "3000/3000 [==============================] - 232s 77ms/step - loss: 0.1311 - accuracy: 0.9439 - val_loss: 0.0922 - val_accuracy: 0.9653\n",
            "Epoch 29/50\n",
            "3000/3000 [==============================] - 232s 77ms/step - loss: 0.1039 - accuracy: 0.9581 - val_loss: 0.1398 - val_accuracy: 0.9477\n",
            "Epoch 30/50\n",
            "3000/3000 [==============================] - 232s 77ms/step - loss: 0.1008 - accuracy: 0.9617 - val_loss: 0.1025 - val_accuracy: 0.9617\n",
            "Epoch 31/50\n",
            "3000/3000 [==============================] - 232s 77ms/step - loss: 0.1001 - accuracy: 0.9602 - val_loss: 0.1828 - val_accuracy: 0.9320\n",
            "Epoch 32/50\n",
            "3000/3000 [==============================] - 232s 77ms/step - loss: 0.1010 - accuracy: 0.9625 - val_loss: 0.0891 - val_accuracy: 0.9677\n",
            "Epoch 33/50\n",
            "3000/3000 [==============================] - 232s 77ms/step - loss: 0.1277 - accuracy: 0.9534 - val_loss: 0.1271 - val_accuracy: 0.9527\n",
            "Epoch 34/50\n",
            "3000/3000 [==============================] - 232s 77ms/step - loss: 0.1010 - accuracy: 0.9613 - val_loss: 0.1333 - val_accuracy: 0.9527\n",
            "Epoch 35/50\n",
            "3000/3000 [==============================] - 232s 77ms/step - loss: 0.0978 - accuracy: 0.9612 - val_loss: 0.1095 - val_accuracy: 0.9573\n",
            "Epoch 36/50\n",
            "3000/3000 [==============================] - 232s 77ms/step - loss: 0.0954 - accuracy: 0.9633 - val_loss: 0.0853 - val_accuracy: 0.9650\n",
            "Epoch 37/50\n",
            "3000/3000 [==============================] - 232s 77ms/step - loss: 0.0921 - accuracy: 0.9640 - val_loss: 0.0967 - val_accuracy: 0.9640\n",
            "Epoch 38/50\n",
            "3000/3000 [==============================] - 232s 77ms/step - loss: 0.0883 - accuracy: 0.9647 - val_loss: 0.0850 - val_accuracy: 0.9650\n",
            "Epoch 39/50\n",
            "3000/3000 [==============================] - 232s 77ms/step - loss: 0.0776 - accuracy: 0.9713 - val_loss: 0.1366 - val_accuracy: 0.9453\n",
            "Epoch 40/50\n",
            "3000/3000 [==============================] - 232s 77ms/step - loss: 0.0783 - accuracy: 0.9690 - val_loss: 0.0816 - val_accuracy: 0.9667\n",
            "Epoch 41/50\n",
            "3000/3000 [==============================] - 232s 77ms/step - loss: 0.0673 - accuracy: 0.9750 - val_loss: 0.1093 - val_accuracy: 0.9643\n",
            "Epoch 42/50\n",
            "3000/3000 [==============================] - 232s 77ms/step - loss: 0.0742 - accuracy: 0.9738 - val_loss: 0.1839 - val_accuracy: 0.9313\n",
            "Epoch 43/50\n",
            "3000/3000 [==============================] - 232s 77ms/step - loss: 0.0818 - accuracy: 0.9707 - val_loss: 0.1505 - val_accuracy: 0.9480\n",
            "Epoch 44/50\n",
            "3000/3000 [==============================] - 233s 78ms/step - loss: 0.0698 - accuracy: 0.9733 - val_loss: 0.0740 - val_accuracy: 0.9717\n",
            "Epoch 45/50\n",
            "3000/3000 [==============================] - 232s 77ms/step - loss: 0.0782 - accuracy: 0.9696 - val_loss: 0.0988 - val_accuracy: 0.9613\n",
            "Epoch 46/50\n",
            "3000/3000 [==============================] - 232s 77ms/step - loss: 0.0715 - accuracy: 0.9738 - val_loss: 0.3431 - val_accuracy: 0.9233\n",
            "Epoch 47/50\n",
            "3000/3000 [==============================] - 232s 77ms/step - loss: 0.0697 - accuracy: 0.9730 - val_loss: 0.1401 - val_accuracy: 0.9553\n",
            "Epoch 48/50\n",
            "3000/3000 [==============================] - 232s 77ms/step - loss: 0.0717 - accuracy: 0.9713 - val_loss: 0.0969 - val_accuracy: 0.9573\n",
            "Epoch 49/50\n",
            "3000/3000 [==============================] - 232s 77ms/step - loss: 0.0651 - accuracy: 0.9729 - val_loss: 0.0620 - val_accuracy: 0.9760\n",
            "Epoch 50/50\n",
            "3000/3000 [==============================] - 232s 77ms/step - loss: 0.0620 - accuracy: 0.9770 - val_loss: 0.1005 - val_accuracy: 0.9620\n"
          ],
          "name": "stdout"
        },
        {
          "output_type": "display_data",
          "data": {
            "image/png": "[encoded data removed]",
            "text/plain": [
              "<Figure size 720x432 with 1 Axes>"
            ]
          },
          "metadata": {
            "tags": [],
            "needs_background": "light"
          }
        }
      ]
    },
    {
      "cell_type": "markdown",
      "metadata": {
        "id": "y_pKf6nfEM7l"
      },
      "source": [
        "### Chamada para avaliação da SqueezeNet"
      ]
    },
    {
      "cell_type": "code",
      "metadata": {
        "id": "-Q88gD9E3yoX",
        "colab": {
          "base_uri": "https://localhost:8080/"
        },
        "outputId": "6586cc90-07f6-40a4-8e36-60940b537b56"
      },
      "source": [
        "Evaluate_Model_SqzNet()"
      ],
      "execution_count": null,
      "outputs": [
        {
          "output_type": "stream",
          "text": [
            "Found 12000 images belonging to 3 classes.\n",
            "Found 3000 images belonging to 3 classes.\n",
            "\n",
            "Matriz de Confusão\n",
            "[[366 325 309]\n",
            " [363 329 308]\n",
            " [345 338 317]] \n",
            "\n",
            " ---- F1 Score ----\n",
            "0.3373333333333333\n",
            "0.33702681846879784\n",
            "0.3370268184687978 \n",
            "\n",
            " ---- Recall ----\n",
            "0.3373333333333333\n",
            "0.3373333333333333\n",
            "0.3373333333333333 \n",
            "\n",
            " ---- Precision ----\n",
            "0.3373333333333333\n",
            "0.33727859232566804\n",
            "0.33727859232566804 \n",
            "\n"
          ],
          "name": "stdout"
        }
      ]
    }
  ]
}